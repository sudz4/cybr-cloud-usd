{
 "cells": [
  {
   "cell_type": "code",
   "execution_count": 1,
   "metadata": {},
   "outputs": [],
   "source": [
    "import random\n",
    "\n",
    "# San Diego-related terms\n",
    "sd_terms = [\"SD\", \"SoCal\", \"Padres\", \"Chargers\", \"Zoo\", \"Balboa\", \"Gaslamp\", \"Coronado\"]\n",
    "\n",
    "# Cybersecurity-related terms\n",
    "cyber_terms = [\"Cyber\", \"Hack\", \"Firewall\", \"Encrypt\", \"Malware\", \"Phish\", \"Botnet\"]\n",
    "\n",
    "# Numbers (including San Diego's area code and California's admission to the union)\n",
    "numbers = [\"619\", \"858\", \"1850\"]\n",
    "\n",
    "# Special characters\n",
    "special_chars = [\"@\", \"!\", \"#\", \"$\", \"%\", \"^\", \"&\", \"*\"]\n",
    "\n",
    "def generate_password():\n",
    "    # Select one term from each list\n",
    "    sd_term = random.choice(sd_terms)\n",
    "    cyber_term = random.choice(cyber_terms)\n",
    "    number = random.choice(numbers)\n",
    "    special_char = random.choice(special_chars)\n",
    "\n",
    "    # Combine the terms\n",
    "    password = sd_term + cyber_term + number + special_char\n",
    "\n",
    "    # Replace certain letters with special characters for additional complexity\n",
    "    password = password.replace(\"a\", \"@\").replace(\"s\", \"$\").replace(\"i\", \"!\").replace(\"o\", \"0\")\n",
    "\n",
    "    return password\n"
   ]
  },
  {
   "cell_type": "code",
   "execution_count": 2,
   "metadata": {},
   "outputs": [
    {
     "data": {
      "text/plain": [
       "'G@$l@mpH@ck858&'"
      ]
     },
     "execution_count": 2,
     "metadata": {},
     "output_type": "execute_result"
    }
   ],
   "source": [
    "generate_password()"
   ]
  }
 ],
 "metadata": {
  "kernelspec": {
   "display_name": "ccusd_venv",
   "language": "python",
   "name": "python3"
  },
  "language_info": {
   "codemirror_mode": {
    "name": "ipython",
    "version": 3
   },
   "file_extension": ".py",
   "mimetype": "text/x-python",
   "name": "python",
   "nbconvert_exporter": "python",
   "pygments_lexer": "ipython3",
   "version": "3.11.1"
  },
  "orig_nbformat": 4
 },
 "nbformat": 4,
 "nbformat_minor": 2
}
