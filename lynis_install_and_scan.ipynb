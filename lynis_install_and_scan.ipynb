{
 "cells": [
  {
   "cell_type": "code",
   "execution_count": 4,
   "metadata": {},
   "outputs": [],
   "source": [
    "import paramiko\n",
    "\n",
    "def run_lynis_scan(hostname, port, username, password):\n",
    "    ssh = paramiko.SSHClient()\n",
    "    ssh.set_missing_host_key_policy(paramiko.AutoAddPolicy()) \n",
    "    ssh.connect(hostname, port=port, username=username, password=password)\n",
    "\n",
    "    # Check if Lynis is installed\n",
    "    stdin, stdout, stderr = ssh.exec_command(\"command -v lynis\")\n",
    "    if stdout.channel.recv_exit_status() != 0:  # Command failed, Lynis not installed\n",
    "        # Install Lynis. Note that this requires root access, and can be a security risk\n",
    "        print(f\"Installing Lynis on {hostname}...\")\n",
    "        stdin, stdout, stderr = ssh.exec_command(\"yum install lynis -y\")\n",
    "        if stdout.channel.recv_exit_status() != 0:  # Command failed\n",
    "            print(f\"Failed to install Lynis on {hostname}: {stderr.read().decode('utf-8')}\")\n",
    "            return\n",
    "        print(f\"Lynis installed on {hostname}\")\n",
    "\n",
    "    # Run Lynis scan\n",
    "    print(f\"Running Lynis scan on {hostname}...\")\n",
    "    stdin, stdout, stderr = ssh.exec_command(\"lynis audit system\")\n",
    "\n",
    "    output = stdout.readlines()\n",
    "\n",
    "    ssh.close()\n",
    "\n",
    "    return output\n"
   ]
  },
  {
   "cell_type": "code",
   "execution_count": null,
   "metadata": {},
   "outputs": [],
   "source": [
    "import os\n",
    "from dotenv import load_dotenv\n",
    "\n",
    "hostname = 'fedora'\n",
    "port = 22\n",
    "\n",
    "load_dotenv()\n",
    "username = os.getenv('un_fedora')\n",
    "password = os.getenv('pw_fedora')\n",
    "\n",
    "output = run_lynis_scan(hostname, port, username, password)\n",
    "\n",
    "print(output)"
   ]
  },
  {
   "cell_type": "code",
   "execution_count": null,
   "metadata": {},
   "outputs": [],
   "source": []
  }
 ],
 "metadata": {
  "kernelspec": {
   "display_name": "ccusd_venv",
   "language": "python",
   "name": "python3"
  },
  "language_info": {
   "codemirror_mode": {
    "name": "ipython",
    "version": 3
   },
   "file_extension": ".py",
   "mimetype": "text/x-python",
   "name": "python",
   "nbconvert_exporter": "python",
   "pygments_lexer": "ipython3",
   "version": "3.11.1"
  },
  "orig_nbformat": 4
 },
 "nbformat": 4,
 "nbformat_minor": 2
}
