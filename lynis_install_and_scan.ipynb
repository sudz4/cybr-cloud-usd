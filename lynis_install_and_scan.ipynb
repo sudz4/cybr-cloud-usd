{
 "cells": [
  {
   "cell_type": "code",
   "execution_count": null,
   "metadata": {},
   "outputs": [],
   "source": [
    "import paramiko\n",
    "\n",
    "\n",
    "def run_lynis_scan(hostname, port, username, password):\n",
    "    ssh = paramiko.SSHClient()\n",
    "    ssh.set_missing_host_key_policy(paramiko.AutoAddPolicy()) \n",
    "    ssh.connect(hostname, port=port, username=username, password=password)\n",
    "\n",
    "    # Check if Lynis is installed\n",
    "    stdin, stdout, stderr = ssh.exec_command(\"command -v lynis\")\n",
    "    if stdout.channel.recv_exit_status() != 0:  # Command failed, Lynis not installed\n",
    "        # Install Lynis. Note that this requires root access, and can be a security risk\n",
    "        print(f\"Installing Lynis on {hostname}...\")\n",
    "        stdin, stdout, stderr = ssh.exec_command(\"yum install lynis -y\")\n",
    "        if stdout.channel.recv_exit_status() != 0:  # Command failed\n",
    "            print(f\"Failed to install Lynis on {hostname}: {stderr.read().decode('utf-8')}\")\n",
    "            return\n",
    "        print(f\"Lynis installed on {hostname}\")\n",
    "\n",
    "    # Run Lynis scan\n",
    "    print(f\"Running Lynis scan on {hostname}...\")\n",
    "    stdin, stdout, stderr = ssh.exec_command(\"lynis audit system\")\n",
    "\n",
    "    output = stdout.readlines()\n",
    "\n",
    "    ssh.close()\n",
    "\n",
    "    return output\n"
   ]
  }
 ],
 "metadata": {
  "language_info": {
   "name": "python"
  },
  "orig_nbformat": 4
 },
 "nbformat": 4,
 "nbformat_minor": 2
}
