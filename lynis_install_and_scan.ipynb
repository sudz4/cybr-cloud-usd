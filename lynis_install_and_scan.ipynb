{
 "cells": [
  {
   "cell_type": "code",
   "execution_count": 4,
   "metadata": {},
   "outputs": [],
   "source": [
    "import paramiko\n",
    "\n",
    "def run_lynis_scan(hostname, port, username, password):\n",
    "    ssh = paramiko.SSHClient()\n",
    "    ssh.set_missing_host_key_policy(paramiko.AutoAddPolicy()) \n",
    "    ssh.connect(hostname, port=port, username=username, password=password)\n",
    "\n",
    "    # Check if Lynis is installed\n",
    "    stdin, stdout, stderr = ssh.exec_command(\"command -v lynis\")\n",
    "    if stdout.channel.recv_exit_status() != 0:  # Command failed, Lynis not installed\n",
    "        # Install Lynis. Note that this requires root access, and can be a security risk\n",
    "        print(f\"Installing Lynis on {hostname}...\")\n",
    "        stdin, stdout, stderr = ssh.exec_command(\"yum install lynis -y\")\n",
    "        if stdout.channel.recv_exit_status() != 0:  # Command failed\n",
    "            print(f\"Failed to install Lynis on {hostname}: {stderr.read().decode('utf-8')}\")\n",
    "            return\n",
    "        print(f\"Lynis installed on {hostname}\")\n",
    "\n",
    "    # Run Lynis scan\n",
    "    print(f\"Running Lynis scan on {hostname}...\")\n",
    "    stdin, stdout, stderr = ssh.exec_command(\"lynis audit system\")\n",
    "\n",
    "    output = stdout.readlines()\n",
    "\n",
    "    ssh.close()\n",
    "\n",
    "    return output\n"
   ]
  },
  {
   "cell_type": "code",
   "execution_count": 5,
   "metadata": {},
   "outputs": [
    {
     "ename": "TimeoutError",
     "evalue": "[Errno 60] Operation timed out",
     "output_type": "error",
     "traceback": [
      "\u001b[0;31m---------------------------------------------------------------------------\u001b[0m",
      "\u001b[0;31mTimeoutError\u001b[0m                              Traceback (most recent call last)",
      "Cell \u001b[0;32mIn[5], line 11\u001b[0m\n\u001b[1;32m      8\u001b[0m username \u001b[39m=\u001b[39m os\u001b[39m.\u001b[39mgetenv(\u001b[39m'\u001b[39m\u001b[39mun_fedora\u001b[39m\u001b[39m'\u001b[39m)\n\u001b[1;32m      9\u001b[0m password \u001b[39m=\u001b[39m os\u001b[39m.\u001b[39mgetenv(\u001b[39m'\u001b[39m\u001b[39mpw_fedora\u001b[39m\u001b[39m'\u001b[39m)\n\u001b[0;32m---> 11\u001b[0m output \u001b[39m=\u001b[39m run_lynis_scan(hostname, port, username, password)\n\u001b[1;32m     13\u001b[0m \u001b[39mprint\u001b[39m(output)\n",
      "Cell \u001b[0;32mIn[4], line 6\u001b[0m, in \u001b[0;36mrun_lynis_scan\u001b[0;34m(hostname, port, username, password)\u001b[0m\n\u001b[1;32m      4\u001b[0m ssh \u001b[39m=\u001b[39m paramiko\u001b[39m.\u001b[39mSSHClient()\n\u001b[1;32m      5\u001b[0m ssh\u001b[39m.\u001b[39mset_missing_host_key_policy(paramiko\u001b[39m.\u001b[39mAutoAddPolicy()) \n\u001b[0;32m----> 6\u001b[0m ssh\u001b[39m.\u001b[39;49mconnect(hostname, port\u001b[39m=\u001b[39;49mport, username\u001b[39m=\u001b[39;49musername, password\u001b[39m=\u001b[39;49mpassword)\n\u001b[1;32m      8\u001b[0m \u001b[39m# Check if Lynis is installed\u001b[39;00m\n\u001b[1;32m      9\u001b[0m stdin, stdout, stderr \u001b[39m=\u001b[39m ssh\u001b[39m.\u001b[39mexec_command(\u001b[39m\"\u001b[39m\u001b[39mcommand -v lynis\u001b[39m\u001b[39m\"\u001b[39m)\n",
      "File \u001b[0;32m~/Desktop/SUDZ4DEV/cybr-cloud-usd/ccusd_venv/lib/python3.11/site-packages/paramiko/client.py:386\u001b[0m, in \u001b[0;36mSSHClient.connect\u001b[0;34m(self, hostname, port, username, password, pkey, key_filename, timeout, allow_agent, look_for_keys, compress, sock, gss_auth, gss_kex, gss_deleg_creds, gss_host, banner_timeout, auth_timeout, channel_timeout, gss_trust_dns, passphrase, disabled_algorithms, transport_factory, auth_strategy)\u001b[0m\n\u001b[1;32m    384\u001b[0m     \u001b[39mexcept\u001b[39;00m:\n\u001b[1;32m    385\u001b[0m         \u001b[39mpass\u001b[39;00m\n\u001b[0;32m--> 386\u001b[0m sock\u001b[39m.\u001b[39;49mconnect(addr)\n\u001b[1;32m    387\u001b[0m \u001b[39m# Break out of the loop on success\u001b[39;00m\n\u001b[1;32m    388\u001b[0m \u001b[39mbreak\u001b[39;00m\n",
      "\u001b[0;31mTimeoutError\u001b[0m: [Errno 60] Operation timed out"
     ]
    }
   ],
   "source": [
    "import os\n",
    "from dotenv import load_dotenv\n",
    "\n",
    "hostname = 'fedora'\n",
    "port = 22\n",
    "\n",
    "load_dotenv()\n",
    "username = os.getenv('un_fedora')\n",
    "password = os.getenv('pw_fedora')\n",
    "\n",
    "output = run_lynis_scan(hostname, port, username, password)\n",
    "\n",
    "print(output)"
   ]
  },
  {
   "cell_type": "code",
   "execution_count": null,
   "metadata": {},
   "outputs": [],
   "source": []
  }
 ],
 "metadata": {
  "kernelspec": {
   "display_name": "ccusd_venv",
   "language": "python",
   "name": "python3"
  },
  "language_info": {
   "codemirror_mode": {
    "name": "ipython",
    "version": 3
   },
   "file_extension": ".py",
   "mimetype": "text/x-python",
   "name": "python",
   "nbconvert_exporter": "python",
   "pygments_lexer": "ipython3",
   "version": "3.11.1"
  },
  "orig_nbformat": 4
 },
 "nbformat": 4,
 "nbformat_minor": 2
}
