{
 "cells": [
  {
   "cell_type": "code",
   "execution_count": 2,
   "metadata": {},
   "outputs": [
    {
     "ename": "ModuleNotFoundError",
     "evalue": "No module named 'mpl_toolkits.basemap'",
     "output_type": "error",
     "traceback": [
      "\u001b[0;31m---------------------------------------------------------------------------\u001b[0m",
      "\u001b[0;31mModuleNotFoundError\u001b[0m                       Traceback (most recent call last)",
      "Cell \u001b[0;32mIn[2], line 2\u001b[0m\n\u001b[1;32m      1\u001b[0m \u001b[39mimport\u001b[39;00m \u001b[39mmatplotlib\u001b[39;00m\u001b[39m.\u001b[39;00m\u001b[39mpyplot\u001b[39;00m \u001b[39mas\u001b[39;00m \u001b[39mplt\u001b[39;00m\n\u001b[0;32m----> 2\u001b[0m \u001b[39mfrom\u001b[39;00m \u001b[39mmpl_toolkits\u001b[39;00m\u001b[39m.\u001b[39;00m\u001b[39mbasemap\u001b[39;00m \u001b[39mimport\u001b[39;00m Basemap\n\u001b[1;32m      4\u001b[0m \u001b[39mdef\u001b[39;00m \u001b[39mplot_aws_zones\u001b[39m():\n\u001b[1;32m      5\u001b[0m     \u001b[39m# Create a new map using Basemap \u001b[39;00m\n\u001b[1;32m      6\u001b[0m     m \u001b[39m=\u001b[39m Basemap(projection\u001b[39m=\u001b[39m\u001b[39m'\u001b[39m\u001b[39mmerc\u001b[39m\u001b[39m'\u001b[39m,llcrnrlat\u001b[39m=\u001b[39m\u001b[39m-\u001b[39m\u001b[39m60\u001b[39m,urcrnrlat\u001b[39m=\u001b[39m\u001b[39m80\u001b[39m,llcrnrlon\u001b[39m=\u001b[39m\u001b[39m-\u001b[39m\u001b[39m180\u001b[39m,urcrnrlon\u001b[39m=\u001b[39m\u001b[39m180\u001b[39m,lat_ts\u001b[39m=\u001b[39m\u001b[39m20\u001b[39m,resolution\u001b[39m=\u001b[39m\u001b[39m'\u001b[39m\u001b[39mc\u001b[39m\u001b[39m'\u001b[39m)\n",
      "\u001b[0;31mModuleNotFoundError\u001b[0m: No module named 'mpl_toolkits.basemap'"
     ]
    }
   ],
   "source": [
    "import geopandas as gpd\n",
    "import matplotlib.pyplot as plt\n",
    "\n",
    "def plot_aws_zones():\n",
    "    # Load the world map\n",
    "    world = gpd.read_file(gpd.datasets.get_path('naturalearth_lowres'))\n",
    "\n",
    "    # Define AWS zone locations: San Diego, Hong Kong, Brussels\n",
    "    locations = {\n",
    "        'San Diego': (-117.1611, 32.7157),\n",
    "        'Hong Kong': (114.1095, 22.3964),\n",
    "        'Brussels': (4.3517, 50.8503)\n",
    "    }\n",
    "\n",
    "    # Plot the world map\n",
    "    world.plot(figsize=(15,10), color='lightgray')\n",
    "\n",
    "    # Plot AWS zones\n",
    "    for city, (lon, lat) in locations.items():\n",
    "        plt.plot(lon, lat, 'ro', markersize=12)  # 'ro' means red color, circle marker\n",
    "        plt.text(lon, lat, city, fontsize=12)\n",
    "\n",
    "    plt.title(\"AWS Zones for Design World\")\n",
    "    plt.show()\n",
    "\n",
    "plot_aws_zones()\n"
   ]
  }
 ],
 "metadata": {
  "kernelspec": {
   "display_name": "ccusd_venv",
   "language": "python",
   "name": "python3"
  },
  "language_info": {
   "codemirror_mode": {
    "name": "ipython",
    "version": 3
   },
   "file_extension": ".py",
   "mimetype": "text/x-python",
   "name": "python",
   "nbconvert_exporter": "python",
   "pygments_lexer": "ipython3",
   "version": "3.11.1"
  },
  "orig_nbformat": 4
 },
 "nbformat": 4,
 "nbformat_minor": 2
}
